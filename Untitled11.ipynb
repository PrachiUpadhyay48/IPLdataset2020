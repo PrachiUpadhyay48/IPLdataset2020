{
 "cells": [
  {
   "cell_type": "code",
   "execution_count": 16,
   "id": "5aebdb86",
   "metadata": {},
   "outputs": [
    {
     "name": "stdout",
     "output_type": "stream",
     "text": [
      "     Name  Marks  age relation\n",
      "0  prachi     90   21   sister\n",
      "1   harsh     45   17      bro\n",
      "2  prince     60   24      bro\n",
      "3   pinki     95   20   sister\n"
     ]
    }
   ],
   "source": [
    "# save csv file:-\n",
    "\n",
    "import pandas as pd\n",
    "n1=pd.DataFrame({\"Name\":['prachi','harsh','prince','pinki'],\"Marks\":[90,45,60,95],'age':[21,17,24,20],\"relation\":['sister','bro','bro','sister']}) \n",
    "print(n1)\n",
    "n1.to_csv('data1.csv')"
   ]
  },
  {
   "cell_type": "code",
   "execution_count": 36,
   "id": "72548a09",
   "metadata": {},
   "outputs": [
    {
     "data": {
      "text/plain": [
       "(3, 5)"
      ]
     },
     "execution_count": 36,
     "metadata": {},
     "output_type": "execute_result"
    }
   ],
   "source": [
    "# read csv file:\n",
    "\n",
    "import pandas as pd\n",
    "df=pd.read_csv('data1.csv')\n",
    "df.shape \n",
    "# head() #tail() #shape #describe()"
   ]
  },
  {
   "cell_type": "code",
   "execution_count": 76,
   "id": "f4e8264d",
   "metadata": {},
   "outputs": [
    {
     "data": {
      "text/html": [
       "<div>\n",
       "<style scoped>\n",
       "    .dataframe tbody tr th:only-of-type {\n",
       "        vertical-align: middle;\n",
       "    }\n",
       "\n",
       "    .dataframe tbody tr th {\n",
       "        vertical-align: top;\n",
       "    }\n",
       "\n",
       "    .dataframe thead th {\n",
       "        text-align: right;\n",
       "    }\n",
       "</style>\n",
       "<table border=\"1\" class=\"dataframe\">\n",
       "  <thead>\n",
       "    <tr style=\"text-align: right;\">\n",
       "      <th></th>\n",
       "      <th>Name</th>\n",
       "      <th>Marks</th>\n",
       "      <th>age</th>\n",
       "      <th>relation</th>\n",
       "    </tr>\n",
       "  </thead>\n",
       "  <tbody>\n",
       "    <tr>\n",
       "      <th>1</th>\n",
       "      <td>harsh</td>\n",
       "      <td>45</td>\n",
       "      <td>17</td>\n",
       "      <td>bro</td>\n",
       "    </tr>\n",
       "    <tr>\n",
       "      <th>2</th>\n",
       "      <td>prince</td>\n",
       "      <td>60</td>\n",
       "      <td>24</td>\n",
       "      <td>bro</td>\n",
       "    </tr>\n",
       "  </tbody>\n",
       "</table>\n",
       "</div>"
      ],
      "text/plain": [
       "     Name  Marks  age relation\n",
       "1   harsh     45   17      bro\n",
       "2  prince     60   24      bro"
      ]
     },
     "execution_count": 76,
     "metadata": {},
     "output_type": "execute_result"
    }
   ],
   "source": [
    "# Extraction of some data from whole data (iloc):\n",
    "df.iloc[1:3,1:]"
   ]
  },
  {
   "cell_type": "code",
   "execution_count": 82,
   "id": "20f3e1c9",
   "metadata": {},
   "outputs": [
    {
     "data": {
      "text/plain": [
       "0    prachi\n",
       "1     harsh\n",
       "2    prince\n",
       "Name: Name, dtype: object"
      ]
     },
     "execution_count": 82,
     "metadata": {},
     "output_type": "execute_result"
    }
   ],
   "source": [
    "# .loc()\n",
    "df.loc[0:3,('Name')]\n"
   ]
  },
  {
   "cell_type": "code",
   "execution_count": 95,
   "id": "103fd266",
   "metadata": {},
   "outputs": [
    {
     "data": {
      "text/html": [
       "<div>\n",
       "<style scoped>\n",
       "    .dataframe tbody tr th:only-of-type {\n",
       "        vertical-align: middle;\n",
       "    }\n",
       "\n",
       "    .dataframe tbody tr th {\n",
       "        vertical-align: top;\n",
       "    }\n",
       "\n",
       "    .dataframe thead th {\n",
       "        text-align: right;\n",
       "    }\n",
       "</style>\n",
       "<table border=\"1\" class=\"dataframe\">\n",
       "  <thead>\n",
       "    <tr style=\"text-align: right;\">\n",
       "      <th></th>\n",
       "      <th>Unnamed: 0</th>\n",
       "      <th>Name</th>\n",
       "      <th>Marks</th>\n",
       "      <th>age</th>\n",
       "      <th>relation</th>\n",
       "    </tr>\n",
       "  </thead>\n",
       "  <tbody>\n",
       "    <tr>\n",
       "      <th>0</th>\n",
       "      <td>0</td>\n",
       "      <td>prachi</td>\n",
       "      <td>90</td>\n",
       "      <td>21</td>\n",
       "      <td>sister</td>\n",
       "    </tr>\n",
       "    <tr>\n",
       "      <th>1</th>\n",
       "      <td>1</td>\n",
       "      <td>harsh</td>\n",
       "      <td>45</td>\n",
       "      <td>17</td>\n",
       "      <td>bro</td>\n",
       "    </tr>\n",
       "  </tbody>\n",
       "</table>\n",
       "</div>"
      ],
      "text/plain": [
       "   Unnamed: 0    Name  Marks  age relation\n",
       "0           0  prachi     90   21   sister\n",
       "1           1   harsh     45   17      bro"
      ]
     },
     "execution_count": 95,
     "metadata": {},
     "output_type": "execute_result"
    }
   ],
   "source": [
    "# dropping colunm or row :\n",
    "df.drop(\"age\",axis=1) (column)\n",
    "df.drop([2],axis=0)   (row)"
   ]
  },
  {
   "cell_type": "code",
   "execution_count": 101,
   "id": "03c1ce06",
   "metadata": {},
   "outputs": [
    {
     "data": {
      "text/plain": [
       "Unnamed: 0     1.0\n",
       "Marks         60.0\n",
       "age           21.0\n",
       "dtype: float64"
      ]
     },
     "execution_count": 101,
     "metadata": {},
     "output_type": "execute_result"
    }
   ],
   "source": [
    "# mean,median,min,max:\n",
    "#df.min()\n",
    "#df.max()\n",
    "#df.mean()\n",
    "df.median()"
   ]
  },
  {
   "cell_type": "code",
   "execution_count": 12,
   "id": "b2d0c13e",
   "metadata": {},
   "outputs": [
    {
     "data": {
      "text/html": [
       "<div>\n",
       "<style scoped>\n",
       "    .dataframe tbody tr th:only-of-type {\n",
       "        vertical-align: middle;\n",
       "    }\n",
       "\n",
       "    .dataframe tbody tr th {\n",
       "        vertical-align: top;\n",
       "    }\n",
       "\n",
       "    .dataframe thead th {\n",
       "        text-align: right;\n",
       "    }\n",
       "</style>\n",
       "<table border=\"1\" class=\"dataframe\">\n",
       "  <thead>\n",
       "    <tr style=\"text-align: right;\">\n",
       "      <th></th>\n",
       "      <th>age</th>\n",
       "      <th>Marks</th>\n",
       "    </tr>\n",
       "  </thead>\n",
       "  <tbody>\n",
       "    <tr>\n",
       "      <th>0</th>\n",
       "      <td>4.2</td>\n",
       "      <td>18.0</td>\n",
       "    </tr>\n",
       "    <tr>\n",
       "      <th>1</th>\n",
       "      <td>3.4</td>\n",
       "      <td>9.0</td>\n",
       "    </tr>\n",
       "    <tr>\n",
       "      <th>2</th>\n",
       "      <td>4.8</td>\n",
       "      <td>12.0</td>\n",
       "    </tr>\n",
       "  </tbody>\n",
       "</table>\n",
       "</div>"
      ],
      "text/plain": [
       "   age  Marks\n",
       "0  4.2   18.0\n",
       "1  3.4    9.0\n",
       "2  4.8   12.0"
      ]
     },
     "execution_count": 12,
     "metadata": {},
     "output_type": "execute_result"
    }
   ],
   "source": [
    "# some more functions (\"half the data\"):\n",
    "def some(s):\n",
    "    return s/5\n",
    "\n",
    "n1[['age','Marks']].apply(some)"
   ]
  },
  {
   "cell_type": "code",
   "execution_count": 17,
   "id": "8752e273",
   "metadata": {},
   "outputs": [
    {
     "data": {
      "text/plain": [
       "sister    2\n",
       "bro       2\n",
       "Name: relation, dtype: int64"
      ]
     },
     "execution_count": 17,
     "metadata": {},
     "output_type": "execute_result"
    }
   ],
   "source": [
    "# countvalues & sortvalues:\n",
    "n1['relation'].value_counts()\n"
   ]
  },
  {
   "cell_type": "code",
   "execution_count": 20,
   "id": "3fbae0c6",
   "metadata": {},
   "outputs": [
    {
     "data": {
      "text/html": [
       "<div>\n",
       "<style scoped>\n",
       "    .dataframe tbody tr th:only-of-type {\n",
       "        vertical-align: middle;\n",
       "    }\n",
       "\n",
       "    .dataframe tbody tr th {\n",
       "        vertical-align: top;\n",
       "    }\n",
       "\n",
       "    .dataframe thead th {\n",
       "        text-align: right;\n",
       "    }\n",
       "</style>\n",
       "<table border=\"1\" class=\"dataframe\">\n",
       "  <thead>\n",
       "    <tr style=\"text-align: right;\">\n",
       "      <th></th>\n",
       "      <th>Name</th>\n",
       "      <th>Marks</th>\n",
       "      <th>age</th>\n",
       "      <th>relation</th>\n",
       "    </tr>\n",
       "  </thead>\n",
       "  <tbody>\n",
       "    <tr>\n",
       "      <th>1</th>\n",
       "      <td>harsh</td>\n",
       "      <td>45</td>\n",
       "      <td>17</td>\n",
       "      <td>bro</td>\n",
       "    </tr>\n",
       "    <tr>\n",
       "      <th>2</th>\n",
       "      <td>prince</td>\n",
       "      <td>60</td>\n",
       "      <td>24</td>\n",
       "      <td>bro</td>\n",
       "    </tr>\n",
       "    <tr>\n",
       "      <th>0</th>\n",
       "      <td>prachi</td>\n",
       "      <td>90</td>\n",
       "      <td>21</td>\n",
       "      <td>sister</td>\n",
       "    </tr>\n",
       "    <tr>\n",
       "      <th>3</th>\n",
       "      <td>pinki</td>\n",
       "      <td>95</td>\n",
       "      <td>20</td>\n",
       "      <td>sister</td>\n",
       "    </tr>\n",
       "  </tbody>\n",
       "</table>\n",
       "</div>"
      ],
      "text/plain": [
       "     Name  Marks  age relation\n",
       "1   harsh     45   17      bro\n",
       "2  prince     60   24      bro\n",
       "0  prachi     90   21   sister\n",
       "3   pinki     95   20   sister"
      ]
     },
     "execution_count": 20,
     "metadata": {},
     "output_type": "execute_result"
    }
   ],
   "source": [
    "n1.sort_values(by='relation')"
   ]
  },
  {
   "cell_type": "code",
   "execution_count": 34,
   "id": "7d528127",
   "metadata": {},
   "outputs": [
    {
     "data": {
      "text/plain": [
       "array([ 1,  2,  3,  4,  5,  6,  7,  8,  9, 10, 11, 12, 13, 14, 15, 16, 17,\n",
       "       18, 19])"
      ]
     },
     "execution_count": 34,
     "metadata": {},
     "output_type": "execute_result"
    }
   ],
   "source": [
    "# matplotlib\n",
    "\n",
    "import numpy as np\n",
    "from matplotlib import pyplot as plt\n",
    "x=np.arange(1,20)\n",
    "x"
   ]
  },
  {
   "cell_type": "code",
   "execution_count": 28,
   "id": "1d07c0f1",
   "metadata": {},
   "outputs": [
    {
     "data": {
      "text/plain": [
       "array([ 3,  6,  9, 12, 15, 18, 21, 24, 27, 30, 33, 36, 39, 42, 45, 48, 51,\n",
       "       54, 57])"
      ]
     },
     "execution_count": 28,
     "metadata": {},
     "output_type": "execute_result"
    }
   ],
   "source": [
    "y=3*x\n",
    "y"
   ]
  },
  {
   "cell_type": "code",
   "execution_count": 32,
   "id": "06f0da6e",
   "metadata": {},
   "outputs": [
    {
     "data": {
      "image/png": "[encoded data removed]",
      "text/plain": [
       "<Figure size 432x288 with 1 Axes>"
      ]
     },
     "metadata": {
      "needs_background": "light"
     },
     "output_type": "display_data"
    }
   ],
   "source": [
    "#for title and labels:\n",
    "plt.plot(x,y)\n",
    "plt.title('Line Plot')\n",
    "plt.xlabel('Temperature -->')\n",
    "plt.ylabel('Heat -->')\n",
    "plt.show()"
   ]
  },
  {
   "cell_type": "code",
   "execution_count": 61,
   "id": "9bea1c3b",
   "metadata": {},
   "outputs": [
    {
     "data": {
      "image/png": "[encoded data removed]",
      "text/plain": [
       "<Figure size 432x288 with 1 Axes>"
      ]
     },
     "metadata": {
      "needs_background": "light"
     },
     "output_type": "display_data"
    }
   ],
   "source": [
    "# to set line:\n",
    "plt.plot(x,y,color='orange',linestyle='dotted',linewidth='30')\n",
    "plt.show()\n"
   ]
  },
  {
   "cell_type": "code",
   "execution_count": 77,
   "id": "6ddfbd5e",
   "metadata": {},
   "outputs": [
    {
     "data": {
      "image/png": "[encoded data removed]",
      "text/plain": [
       "<Figure size 432x288 with 1 Axes>"
      ]
     },
     "metadata": {
      "needs_background": "light"
     },
     "output_type": "display_data"
    }
   ],
   "source": [
    "#line plot (with 2 lines in single plot)\n",
    "\n",
    "y1=np.arange(1,10)\n",
    "y2=y1*4\n",
    "x1=y1*2\n",
    "x2=y2*3\n",
    "plt.plot(x1,y1,linestyle='-',linewidth='6')\n",
    "plt.plot(x2,y2,color='blue',linestyle='--')\n",
    "plt.title('LINE PLOT')\n",
    "plt.xlabel('X-axis--> ')\n",
    "plt.ylabel('Y-axis-->')\n",
    "plt.grid(True)\n",
    "plt.show()"
   ]
  },
  {
   "cell_type": "code",
   "execution_count": 111,
   "id": "7c86a5fd",
   "metadata": {},
   "outputs": [
    {
     "data": {
      "image/png": "[encoded data removed]",
      "text/plain": [
       "<Figure size 432x288 with 2 Axes>"
      ]
     },
     "metadata": {
      "needs_background": "light"
     },
     "output_type": "display_data"
    }
   ],
   "source": [
    "# LINE plot (single line with 2 plots)\n",
    "\n",
    "x=np.arange(1,20)\n",
    "y1=x*3\n",
    "y2=x*3\n",
    "\n",
    "plt.subplot(2,1,1)\n",
    "plt.plot(x,y1,color='blue',linestyle='-',linewidth='2')\n",
    "plt.title('LINE PLOT')\n",
    "plt.grid(True)\n",
    "\n",
    "plt.subplot(2,1,2)\n",
    "plt.plot(x,y1,color='g',linestyle='--',linewidth='3')\n",
    "plt.xlabel('x2-axis')\n",
    "plt.ylabel('y-axis')\n",
    "plt.grid(True)\n",
    "plt.show()"
   ]
  },
  {
   "cell_type": "code",
   "execution_count": 149,
   "id": "92776b9a",
   "metadata": {},
   "outputs": [
    {
     "data": {
      "image/png": "[encoded data removed]",
      "text/plain": [
       "<Figure size 432x288 with 1 Axes>"
      ]
     },
     "metadata": {
      "needs_background": "light"
     },
     "output_type": "display_data"
    }
   ],
   "source": [
    "# Bar plot\n",
    "\n",
    "Student={\"Prachi\":70,\"Harsh\":35,\"Pinki\":29,\"Prince\":45}\n",
    "\n",
    "Names=list(Student.keys())\n",
    "Marks=list(Student.values())\n",
    "\n",
    "plt.title('BAR PLOT')\n",
    "plt.xlabel('Student Names -->')\n",
    "plt.ylabel('Student Marks -->')\n",
    "plt.barh(Names,Marks,color='orange')\n",
    "plt.show()"
   ]
  },
  {
   "cell_type": "code",
   "execution_count": 150,
   "id": "e3d8c2dd",
   "metadata": {},
   "outputs": [
    {
     "data": {
      "image/png": "[encoded data removed]",
      "text/plain": [
       "<Figure size 432x288 with 1 Axes>"
      ]
     },
     "metadata": {
      "needs_background": "light"
     },
     "output_type": "display_data"
    }
   ],
   "source": [
    "# Bar Plot (verticle)\n",
    "\n",
    "Student={\"Prachi\":70,\"Harsh\":35,\"Pinki\":29,\"Prince\":45}\n",
    "\n",
    "Names=list(Student.keys())\n",
    "Marks=list(Student.values())\n",
    "\n",
    "plt.title('BAR PLOT')\n",
    "plt.xlabel('Student Names -->')\n",
    "plt.ylabel('Student Marks -->')\n",
    "plt.bar(Names,Marks,color='orange')\n",
    "plt.show()"
   ]
  },
  {
   "cell_type": "code",
   "execution_count": 174,
   "id": "bd6c1de7",
   "metadata": {},
   "outputs": [
    {
     "data": {
      "image/png": "[encoded data removed]",
      "text/plain": [
       "<Figure size 432x288 with 1 Axes>"
      ]
     },
     "metadata": {
      "needs_background": "light"
     },
     "output_type": "display_data"
    }
   ],
   "source": [
    "#Scatter plot:\n",
    "\n",
    "x=[10,20,30,40,50,60,70,80,90,100,120,140]\n",
    "a=[20,50,40,60,80,50,23,56,79,45,30,10]\n",
    "\n",
    "plt.scatter(x,a,marker='*',c='red',s=60)\n",
    "plt.grid(True)\n",
    "plt.show()"
   ]
  },
  {
   "cell_type": "code",
   "execution_count": 194,
   "id": "18d34f33",
   "metadata": {},
   "outputs": [
    {
     "data": {
      "image/png": "[encoded data removed]",
      "text/plain": [
       "<Figure size 432x288 with 2 Axes>"
      ]
     },
     "metadata": {
      "needs_background": "light"
     },
     "output_type": "display_data"
    }
   ],
   "source": [
    "#Scatter plot with 2symbols in 1:\n",
    "\n",
    "x=[10,20,30,40,50,60,70,80,90,100]\n",
    "a=[20,50,16,40,66,50,23,41,30,10]\n",
    "b=[40,25,12,47,33,5,6,21,11,61]\n",
    "\n",
    "plt.subplot(1,2,1)\n",
    "plt.scatter(x,a,marker='*',c='red',s=60)\n",
    "\n",
    "plt.subplot(2,2,2)\n",
    "plt.scatter(x,b,marker='.',c='g',s=80)\n",
    "plt.grid(True)\n",
    "plt.show()"
   ]
  },
  {
   "cell_type": "code",
   "execution_count": 225,
   "id": "2c08d3a3",
   "metadata": {},
   "outputs": [
    {
     "data": {
      "text/plain": [
       "<function matplotlib.pyplot.show(close=None, block=None)>"
      ]
     },
     "execution_count": 225,
     "metadata": {},
     "output_type": "execute_result"
    },
    {
     "data": {
      "image/png": "[encoded data removed]",
      "text/plain": [
       "<Figure size 432x288 with 1 Axes>"
      ]
     },
     "metadata": {
      "needs_background": "light"
     },
     "output_type": "display_data"
    }
   ],
   "source": [
    "# Histogram :\n",
    "\n",
    "data=[1,2,2,2,4,5,6,7,7,9]\n",
    "plt.hist(data,color='brown',bins=10)\n",
    "plt.show"
   ]
  },
  {
   "cell_type": "code",
   "execution_count": 257,
   "id": "7f80a8b1",
   "metadata": {},
   "outputs": [
    {
     "data": {
      "image/png": "[encoded data removed]",
      "text/plain": [
       "<Figure size 432x288 with 1 Axes>"
      ]
     },
     "metadata": {
      "needs_background": "light"
     },
     "output_type": "display_data"
    }
   ],
   "source": [
    "# working with dataset:\n",
    "\n",
    "data.to_csv('data2.csv')\n",
    "dt=pd.read_csv('data2.csv')\n",
    "dt.shape\n",
    "plt.hist([22,19,11,14,12],bins=10,color='g')\n",
    "plt.show()\n"
   ]
  },
  {
   "cell_type": "code",
   "execution_count": 260,
   "id": "a44b0a06",
   "metadata": {},
   "outputs": [
    {
     "data": {
      "image/png": "[encoded data removed]",
      "text/plain": [
       "<Figure size 432x288 with 1 Axes>"
      ]
     },
     "metadata": {
      "needs_background": "light"
     },
     "output_type": "display_data"
    }
   ],
   "source": [
    "#Box-plot:\n",
    "\n",
    "one=[1,2,3,4,5,6,7,8]\n",
    "two=[1,3,5,8,4,7,9,3,5]\n",
    "three=[6,7,2,9,1,8,9]\n",
    "\n",
    "data=list([one,two,three])\n",
    "\n",
    "plt.boxplot(data)\n",
    "plt.show()"
   ]
  },
  {
   "cell_type": "code",
   "execution_count": 269,
   "id": "9b1255a1",
   "metadata": {},
   "outputs": [
    {
     "data": {
      "image/png": "[encoded data removed]",
      "text/plain": [
       "<Figure size 432x288 with 1 Axes>"
      ]
     },
     "metadata": {
      "needs_background": "light"
     },
     "output_type": "display_data"
    }
   ],
   "source": [
    "# Violin-plot:\n",
    "\n",
    "one=[1,2,3,4,5,6,7,8]\n",
    "two=[1,3,5,8,4,7,9,3,5]\n",
    "three=[6,7,2,9,1,8,9]\n",
    "four=[0,1,2,2.5,4]\n",
    "\n",
    "data=list([one,two,three,four])\n",
    "\n",
    "plt.violinplot(data,showmedians=True)\n",
    "plt.show()"
   ]
  },
  {
   "cell_type": "code",
   "execution_count": 283,
   "id": "f4e1c190",
   "metadata": {},
   "outputs": [
    {
     "data": {
      "image/png": "[encoded data removed]",
      "text/plain": [
       "<Figure size 432x288 with 1 Axes>"
      ]
     },
     "metadata": {},
     "output_type": "display_data"
    }
   ],
   "source": [
    "# pie-chart:\n",
    "\n",
    "fruit=['Apple','Guava','Orange','Mango']\n",
    "quantity=[56,18,75,30]\n",
    "plt.pie(quantity,labels=fruit,autopct=\"%1.2f%%\",colors=['yellow','pink','red','green'])\n",
    "plt.show()"
   ]
  },
  {
   "cell_type": "code",
   "execution_count": 286,
   "id": "ec0a51cf",
   "metadata": {},
   "outputs": [
    {
     "data": {
      "image/png": "[encoded data removed]",
      "text/plain": [
       "<Figure size 432x288 with 1 Axes>"
      ]
     },
     "metadata": {},
     "output_type": "display_data"
    }
   ],
   "source": [
    "# Doughnut-chart:\n",
    "\n",
    "fruit=['Apple','Guava','Orange','Mango']\n",
    "quantity=[56,18,75,30]\n",
    "plt.pie(quantity,labels=fruit,radius=1)\n",
    "plt.pie([1],colors=['w'],radius=0.5)\n",
    "plt.show()"
   ]
  },
  {
   "cell_type": "code",
   "execution_count": null,
   "id": "16c57b41",
   "metadata": {},
   "outputs": [],
   "source": [
    "# seaborn line plot:\n",
    "\n",
    "import seaborn as sb\n",
    "from matplotlib import pyplot as pp\n",
    "plot=sb.load_dataset (\"data1.csv\")\n",
    "plot.head()\n",
    "\n"
   ]
  },
  {
   "cell_type": "code",
   "execution_count": null,
   "id": "aff7b3b4",
   "metadata": {},
   "outputs": [],
   "source": [
    "import pandas as ps\n",
    "from matplotlib import pyplot as pp\n",
    "import seaborn as sns\n",
    " \n",
    "ipl=ps.read_csv(\"data1.csv\")\n",
    "ipl"
   ]
  },
  {
   "cell_type": "code",
   "execution_count": 3,
   "id": "a4e48f2e",
   "metadata": {},
   "outputs": [
    {
     "ename": "NameError",
     "evalue": "name 'pd' is not defined",
     "output_type": "error",
     "traceback": [
      "\u001b[1;31m---------------------------------------------------------------------------\u001b[0m",
      "\u001b[1;31mNameError\u001b[0m                                 Traceback (most recent call last)",
      "\u001b[1;32m<ipython-input-3-c12bbbe2ae00>\u001b[0m in \u001b[0;36m<module>\u001b[1;34m\u001b[0m\n\u001b[1;32m----> 1\u001b[1;33m \u001b[0mipl\u001b[0m\u001b[1;33m=\u001b[0m\u001b[0mpd\u001b[0m\u001b[1;33m.\u001b[0m\u001b[0mread_csv\u001b[0m\u001b[1;33m(\u001b[0m\u001b[1;34m\"matches.csv\"\u001b[0m\u001b[1;33m)\u001b[0m\u001b[1;33m\u001b[0m\u001b[1;33m\u001b[0m\u001b[0m\n\u001b[0m\u001b[0;32m      2\u001b[0m \u001b[0mipl\u001b[0m\u001b[1;33m\u001b[0m\u001b[1;33m\u001b[0m\u001b[0m\n",
      "\u001b[1;31mNameError\u001b[0m: name 'pd' is not defined"
     ]
    }
   ],
   "source": []
  },
  {
   "cell_type": "code",
   "execution_count": null,
   "id": "338cb26e",
   "metadata": {},
   "outputs": [],
   "source": []
  },
  {
   "cell_type": "code",
   "execution_count": null,
   "id": "55c47683",
   "metadata": {},
   "outputs": [],
   "source": []
  },
  {
   "cell_type": "code",
   "execution_count": null,
   "id": "09c92e50",
   "metadata": {},
   "outputs": [],
   "source": [
    "#"
   ]
  },
  {
   "cell_type": "code",
   "execution_count": null,
   "id": "fa00455e",
   "metadata": {},
   "outputs": [],
   "source": []
  },
  {
   "cell_type": "code",
   "execution_count": null,
   "id": "18bcf981",
   "metadata": {},
   "outputs": [],
   "source": []
  },
  {
   "cell_type": "code",
   "execution_count": null,
   "id": "b089bb83",
   "metadata": {},
   "outputs": [],
   "source": []
  },
  {
   "cell_type": "code",
   "execution_count": null,
   "id": "211630c9",
   "metadata": {},
   "outputs": [],
   "source": []
  },
  {
   "cell_type": "code",
   "execution_count": null,
   "id": "7f9d3ffe",
   "metadata": {},
   "outputs": [],
   "source": []
  },
  {
   "cell_type": "code",
   "execution_count": null,
   "id": "b8994203",
   "metadata": {},
   "outputs": [],
   "source": []
  },
  {
   "cell_type": "code",
   "execution_count": null,
   "id": "62aab32d",
   "metadata": {},
   "outputs": [],
   "source": []
  }
 ],
 "metadata": {
  "kernelspec": {
   "display_name": "Python 3",
   "language": "python",
   "name": "python3"
  },
  "language_info": {
   "codemirror_mode": {
    "name": "ipython",
    "version": 3
   },
   "file_extension": ".py",
   "mimetype": "text/x-python",
   "name": "python",
   "nbconvert_exporter": "python",
   "pygments_lexer": "ipython3",
   "version": "3.8.8"
  }
 },
 "nbformat": 4,
 "nbformat_minor": 5
}
